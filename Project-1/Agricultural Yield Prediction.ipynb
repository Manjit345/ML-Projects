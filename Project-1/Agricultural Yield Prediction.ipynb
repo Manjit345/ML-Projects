{
 "cells": [
  {
   "cell_type": "code",
   "execution_count": 1,
   "id": "99022fe3-8af4-42b0-815b-15931c774069",
   "metadata": {
    "tags": []
   },
   "outputs": [],
   "source": [
    "import pandas as pd\n",
    "import numpy as np\n",
    "from sklearn.model_selection import train_test_split\n",
    "from sklearn.compose import ColumnTransformer\n",
    "from sklearn.pipeline import Pipeline\n",
    "from sklearn.preprocessing import OneHotEncoder\n",
    "from sklearn.impute import SimpleImputer\n",
    "from sklearn.linear_model import LinearRegression\n",
    "from sklearn.metrics import mean_squared_error, mean_absolute_error, r2_score"
   ]
  },
  {
   "cell_type": "code",
   "execution_count": 2,
   "id": "e83b9fb4-22e0-42d2-a33f-c5eb3fe275f3",
   "metadata": {
    "tags": []
   },
   "outputs": [],
   "source": [
    "data = pd.read_csv('crop_yield.csv')"
   ]
  },
  {
   "cell_type": "code",
   "execution_count": 3,
   "id": "c697c030-639b-4d5c-9812-9f4af69ea943",
   "metadata": {
    "tags": []
   },
   "outputs": [
    {
     "data": {
      "text/plain": [
       "1000000"
      ]
     },
     "execution_count": 3,
     "metadata": {},
     "output_type": "execute_result"
    }
   ],
   "source": [
    "len(data)"
   ]
  },
  {
   "cell_type": "code",
   "execution_count": null,
   "id": "45f27ad9-431b-4297-9212-df9a33846b71",
   "metadata": {},
   "outputs": [],
   "source": [
    "# the dataset has 1 Million tuples. These are too many tuples. It can create some issues such as --->\n",
    "# Memory Overload, OneHotEncoder explosion, Computational bottlenecks, Resource Intensive.\n",
    "# Hence this data set has been shortened to 10,000 tuples only. This is also more than sufficient for our purpose"
   ]
  },
  {
   "cell_type": "code",
   "execution_count": 7,
   "id": "2a7d4a41-6613-4d2b-adc9-9b55b4993173",
   "metadata": {
    "tags": []
   },
   "outputs": [],
   "source": [
    "data[:10000].to_csv(path_or_buf='shortened_crop_yield.csv')"
   ]
  },
  {
   "cell_type": "code",
   "execution_count": 6,
   "id": "202c76cd-7e60-430a-b830-1c1c95046c12",
   "metadata": {
    "tags": []
   },
   "outputs": [
    {
     "data": {
      "text/html": [
       "<div>\n",
       "<style scoped>\n",
       "    .dataframe tbody tr th:only-of-type {\n",
       "        vertical-align: middle;\n",
       "    }\n",
       "\n",
       "    .dataframe tbody tr th {\n",
       "        vertical-align: top;\n",
       "    }\n",
       "\n",
       "    .dataframe thead th {\n",
       "        text-align: right;\n",
       "    }\n",
       "</style>\n",
       "<table border=\"1\" class=\"dataframe\">\n",
       "  <thead>\n",
       "    <tr style=\"text-align: right;\">\n",
       "      <th></th>\n",
       "      <th>Unnamed: 0</th>\n",
       "      <th>Region</th>\n",
       "      <th>Soil_Type</th>\n",
       "      <th>Crop</th>\n",
       "      <th>Rainfall_mm</th>\n",
       "      <th>Temperature_Celsius</th>\n",
       "      <th>Fertilizer_Used</th>\n",
       "      <th>Irrigation_Used</th>\n",
       "      <th>Weather_Condition</th>\n",
       "      <th>Days_to_Harvest</th>\n",
       "      <th>Yield_tons_per_hectare</th>\n",
       "    </tr>\n",
       "  </thead>\n",
       "  <tbody>\n",
       "    <tr>\n",
       "      <th>0</th>\n",
       "      <td>0</td>\n",
       "      <td>West</td>\n",
       "      <td>Sandy</td>\n",
       "      <td>Cotton</td>\n",
       "      <td>897.077239</td>\n",
       "      <td>27.676966</td>\n",
       "      <td>False</td>\n",
       "      <td>True</td>\n",
       "      <td>Cloudy</td>\n",
       "      <td>122</td>\n",
       "      <td>6.555816</td>\n",
       "    </tr>\n",
       "    <tr>\n",
       "      <th>1</th>\n",
       "      <td>1</td>\n",
       "      <td>South</td>\n",
       "      <td>Clay</td>\n",
       "      <td>Rice</td>\n",
       "      <td>992.673282</td>\n",
       "      <td>18.026142</td>\n",
       "      <td>True</td>\n",
       "      <td>True</td>\n",
       "      <td>Rainy</td>\n",
       "      <td>140</td>\n",
       "      <td>8.527341</td>\n",
       "    </tr>\n",
       "    <tr>\n",
       "      <th>2</th>\n",
       "      <td>2</td>\n",
       "      <td>North</td>\n",
       "      <td>Loam</td>\n",
       "      <td>Barley</td>\n",
       "      <td>147.998025</td>\n",
       "      <td>29.794042</td>\n",
       "      <td>False</td>\n",
       "      <td>False</td>\n",
       "      <td>Sunny</td>\n",
       "      <td>106</td>\n",
       "      <td>1.127443</td>\n",
       "    </tr>\n",
       "    <tr>\n",
       "      <th>3</th>\n",
       "      <td>3</td>\n",
       "      <td>North</td>\n",
       "      <td>Sandy</td>\n",
       "      <td>Soybean</td>\n",
       "      <td>986.866331</td>\n",
       "      <td>16.644190</td>\n",
       "      <td>False</td>\n",
       "      <td>True</td>\n",
       "      <td>Rainy</td>\n",
       "      <td>146</td>\n",
       "      <td>6.517573</td>\n",
       "    </tr>\n",
       "    <tr>\n",
       "      <th>4</th>\n",
       "      <td>4</td>\n",
       "      <td>South</td>\n",
       "      <td>Silt</td>\n",
       "      <td>Wheat</td>\n",
       "      <td>730.379174</td>\n",
       "      <td>31.620687</td>\n",
       "      <td>True</td>\n",
       "      <td>True</td>\n",
       "      <td>Cloudy</td>\n",
       "      <td>110</td>\n",
       "      <td>7.248251</td>\n",
       "    </tr>\n",
       "  </tbody>\n",
       "</table>\n",
       "</div>"
      ],
      "text/plain": [
       "   Unnamed: 0 Region Soil_Type     Crop  Rainfall_mm  Temperature_Celsius  \\\n",
       "0           0   West     Sandy   Cotton   897.077239            27.676966   \n",
       "1           1  South      Clay     Rice   992.673282            18.026142   \n",
       "2           2  North      Loam   Barley   147.998025            29.794042   \n",
       "3           3  North     Sandy  Soybean   986.866331            16.644190   \n",
       "4           4  South      Silt    Wheat   730.379174            31.620687   \n",
       "\n",
       "   Fertilizer_Used  Irrigation_Used Weather_Condition  Days_to_Harvest  \\\n",
       "0            False             True            Cloudy              122   \n",
       "1             True             True             Rainy              140   \n",
       "2            False            False             Sunny              106   \n",
       "3            False             True             Rainy              146   \n",
       "4             True             True            Cloudy              110   \n",
       "\n",
       "   Yield_tons_per_hectare  \n",
       "0                6.555816  \n",
       "1                8.527341  \n",
       "2                1.127443  \n",
       "3                6.517573  \n",
       "4                7.248251  "
      ]
     },
     "execution_count": 6,
     "metadata": {},
     "output_type": "execute_result"
    }
   ],
   "source": [
    "# Load data\n",
    "df = pd.read_csv('shortened_crop_yield.csv')\n",
    "df.head()"
   ]
  },
  {
   "cell_type": "code",
   "execution_count": 7,
   "id": "8f62a935-7830-40a5-9455-b7bec964bdaf",
   "metadata": {
    "tags": []
   },
   "outputs": [
    {
     "data": {
      "text/html": [
       "<div>\n",
       "<style scoped>\n",
       "    .dataframe tbody tr th:only-of-type {\n",
       "        vertical-align: middle;\n",
       "    }\n",
       "\n",
       "    .dataframe tbody tr th {\n",
       "        vertical-align: top;\n",
       "    }\n",
       "\n",
       "    .dataframe thead th {\n",
       "        text-align: right;\n",
       "    }\n",
       "</style>\n",
       "<table border=\"1\" class=\"dataframe\">\n",
       "  <thead>\n",
       "    <tr style=\"text-align: right;\">\n",
       "      <th></th>\n",
       "      <th>Region</th>\n",
       "      <th>Soil_Type</th>\n",
       "      <th>Crop</th>\n",
       "      <th>Rainfall_mm</th>\n",
       "      <th>Temperature_Celsius</th>\n",
       "      <th>Fertilizer_Used</th>\n",
       "      <th>Irrigation_Used</th>\n",
       "      <th>Weather_Condition</th>\n",
       "      <th>Days_to_Harvest</th>\n",
       "      <th>Yield_tons_per_hectare</th>\n",
       "    </tr>\n",
       "  </thead>\n",
       "  <tbody>\n",
       "    <tr>\n",
       "      <th>0</th>\n",
       "      <td>West</td>\n",
       "      <td>Sandy</td>\n",
       "      <td>Cotton</td>\n",
       "      <td>897.077239</td>\n",
       "      <td>27.676966</td>\n",
       "      <td>False</td>\n",
       "      <td>True</td>\n",
       "      <td>Cloudy</td>\n",
       "      <td>122</td>\n",
       "      <td>6.555816</td>\n",
       "    </tr>\n",
       "    <tr>\n",
       "      <th>1</th>\n",
       "      <td>South</td>\n",
       "      <td>Clay</td>\n",
       "      <td>Rice</td>\n",
       "      <td>992.673282</td>\n",
       "      <td>18.026142</td>\n",
       "      <td>True</td>\n",
       "      <td>True</td>\n",
       "      <td>Rainy</td>\n",
       "      <td>140</td>\n",
       "      <td>8.527341</td>\n",
       "    </tr>\n",
       "    <tr>\n",
       "      <th>2</th>\n",
       "      <td>North</td>\n",
       "      <td>Loam</td>\n",
       "      <td>Barley</td>\n",
       "      <td>147.998025</td>\n",
       "      <td>29.794042</td>\n",
       "      <td>False</td>\n",
       "      <td>False</td>\n",
       "      <td>Sunny</td>\n",
       "      <td>106</td>\n",
       "      <td>1.127443</td>\n",
       "    </tr>\n",
       "    <tr>\n",
       "      <th>3</th>\n",
       "      <td>North</td>\n",
       "      <td>Sandy</td>\n",
       "      <td>Soybean</td>\n",
       "      <td>986.866331</td>\n",
       "      <td>16.644190</td>\n",
       "      <td>False</td>\n",
       "      <td>True</td>\n",
       "      <td>Rainy</td>\n",
       "      <td>146</td>\n",
       "      <td>6.517573</td>\n",
       "    </tr>\n",
       "    <tr>\n",
       "      <th>4</th>\n",
       "      <td>South</td>\n",
       "      <td>Silt</td>\n",
       "      <td>Wheat</td>\n",
       "      <td>730.379174</td>\n",
       "      <td>31.620687</td>\n",
       "      <td>True</td>\n",
       "      <td>True</td>\n",
       "      <td>Cloudy</td>\n",
       "      <td>110</td>\n",
       "      <td>7.248251</td>\n",
       "    </tr>\n",
       "  </tbody>\n",
       "</table>\n",
       "</div>"
      ],
      "text/plain": [
       "  Region Soil_Type     Crop  Rainfall_mm  Temperature_Celsius  \\\n",
       "0   West     Sandy   Cotton   897.077239            27.676966   \n",
       "1  South      Clay     Rice   992.673282            18.026142   \n",
       "2  North      Loam   Barley   147.998025            29.794042   \n",
       "3  North     Sandy  Soybean   986.866331            16.644190   \n",
       "4  South      Silt    Wheat   730.379174            31.620687   \n",
       "\n",
       "   Fertilizer_Used  Irrigation_Used Weather_Condition  Days_to_Harvest  \\\n",
       "0            False             True            Cloudy              122   \n",
       "1             True             True             Rainy              140   \n",
       "2            False            False             Sunny              106   \n",
       "3            False             True             Rainy              146   \n",
       "4             True             True            Cloudy              110   \n",
       "\n",
       "   Yield_tons_per_hectare  \n",
       "0                6.555816  \n",
       "1                8.527341  \n",
       "2                1.127443  \n",
       "3                6.517573  \n",
       "4                7.248251  "
      ]
     },
     "execution_count": 7,
     "metadata": {},
     "output_type": "execute_result"
    }
   ],
   "source": [
    "df.drop(labels = 'Unnamed: 0',axis = 1,inplace=True)\n",
    "df.head()"
   ]
  },
  {
   "cell_type": "code",
   "execution_count": 8,
   "id": "1df0e08c-7ca9-40bf-8b13-6523a60363e9",
   "metadata": {
    "tags": []
   },
   "outputs": [],
   "source": [
    "# Separate features and target\n",
    "X = df.drop('Yield_tons_per_hectare', axis=1)\n",
    "y = df['Yield_tons_per_hectare']"
   ]
  },
  {
   "cell_type": "code",
   "execution_count": 9,
   "id": "f4aac653-bf9e-4501-a462-965692b66880",
   "metadata": {
    "tags": []
   },
   "outputs": [],
   "source": [
    "# Split data\n",
    "X_train, X_test, y_train, y_test = train_test_split(X, y, test_size=0.3, random_state=42)"
   ]
  },
  {
   "cell_type": "code",
   "execution_count": 10,
   "id": "bc5023d7-e5dd-4289-b95b-f48862fda0ce",
   "metadata": {
    "tags": []
   },
   "outputs": [],
   "source": [
    "# Preprocessing pipeline\n",
    "categorical_features = ['Region', 'Soil_Type', 'Crop', 'Weather_Condition']\n",
    "numerical_features = ['Rainfall_mm', 'Temperature_Celsius', 'Days_to_Harvest']\n",
    "bool_features = ['Fertilizer_Used', 'Irrigation_Used']\n",
    "\n",
    "preprocessor = ColumnTransformer(\n",
    "    transformers=[\n",
    "        ('cat', Pipeline(steps=[\n",
    "            ('imputer', SimpleImputer(strategy='most_frequent')),\n",
    "            ('onehot', OneHotEncoder(handle_unknown='ignore'))]), categorical_features),\n",
    "        ('num', SimpleImputer(strategy='median'), numerical_features),\n",
    "        ('bool', 'passthrough', bool_features)\n",
    "    ])"
   ]
  },
  {
   "cell_type": "code",
   "execution_count": 11,
   "id": "c13e2b6f-9675-493e-a5eb-ed4302f3d144",
   "metadata": {
    "tags": []
   },
   "outputs": [],
   "source": [
    "# Model pipeline\n",
    "model = Pipeline(steps=[\n",
    "    ('preprocessor', preprocessor),\n",
    "    ('regressor', LinearRegression())\n",
    "])"
   ]
  },
  {
   "cell_type": "code",
   "execution_count": 12,
   "id": "e0543982-8c0a-4942-8cf3-27211122ba21",
   "metadata": {
    "tags": []
   },
   "outputs": [
    {
     "data": {
      "text/html": [
       "<style>#sk-container-id-1 {color: black;}#sk-container-id-1 pre{padding: 0;}#sk-container-id-1 div.sk-toggleable {background-color: white;}#sk-container-id-1 label.sk-toggleable__label {cursor: pointer;display: block;width: 100%;margin-bottom: 0;padding: 0.3em;box-sizing: border-box;text-align: center;}#sk-container-id-1 label.sk-toggleable__label-arrow:before {content: \"▸\";float: left;margin-right: 0.25em;color: #696969;}#sk-container-id-1 label.sk-toggleable__label-arrow:hover:before {color: black;}#sk-container-id-1 div.sk-estimator:hover label.sk-toggleable__label-arrow:before {color: black;}#sk-container-id-1 div.sk-toggleable__content {max-height: 0;max-width: 0;overflow: hidden;text-align: left;background-color: #f0f8ff;}#sk-container-id-1 div.sk-toggleable__content pre {margin: 0.2em;color: black;border-radius: 0.25em;background-color: #f0f8ff;}#sk-container-id-1 input.sk-toggleable__control:checked~div.sk-toggleable__content {max-height: 200px;max-width: 100%;overflow: auto;}#sk-container-id-1 input.sk-toggleable__control:checked~label.sk-toggleable__label-arrow:before {content: \"▾\";}#sk-container-id-1 div.sk-estimator input.sk-toggleable__control:checked~label.sk-toggleable__label {background-color: #d4ebff;}#sk-container-id-1 div.sk-label input.sk-toggleable__control:checked~label.sk-toggleable__label {background-color: #d4ebff;}#sk-container-id-1 input.sk-hidden--visually {border: 0;clip: rect(1px 1px 1px 1px);clip: rect(1px, 1px, 1px, 1px);height: 1px;margin: -1px;overflow: hidden;padding: 0;position: absolute;width: 1px;}#sk-container-id-1 div.sk-estimator {font-family: monospace;background-color: #f0f8ff;border: 1px dotted black;border-radius: 0.25em;box-sizing: border-box;margin-bottom: 0.5em;}#sk-container-id-1 div.sk-estimator:hover {background-color: #d4ebff;}#sk-container-id-1 div.sk-parallel-item::after {content: \"\";width: 100%;border-bottom: 1px solid gray;flex-grow: 1;}#sk-container-id-1 div.sk-label:hover label.sk-toggleable__label {background-color: #d4ebff;}#sk-container-id-1 div.sk-serial::before {content: \"\";position: absolute;border-left: 1px solid gray;box-sizing: border-box;top: 0;bottom: 0;left: 50%;z-index: 0;}#sk-container-id-1 div.sk-serial {display: flex;flex-direction: column;align-items: center;background-color: white;padding-right: 0.2em;padding-left: 0.2em;position: relative;}#sk-container-id-1 div.sk-item {position: relative;z-index: 1;}#sk-container-id-1 div.sk-parallel {display: flex;align-items: stretch;justify-content: center;background-color: white;position: relative;}#sk-container-id-1 div.sk-item::before, #sk-container-id-1 div.sk-parallel-item::before {content: \"\";position: absolute;border-left: 1px solid gray;box-sizing: border-box;top: 0;bottom: 0;left: 50%;z-index: -1;}#sk-container-id-1 div.sk-parallel-item {display: flex;flex-direction: column;z-index: 1;position: relative;background-color: white;}#sk-container-id-1 div.sk-parallel-item:first-child::after {align-self: flex-end;width: 50%;}#sk-container-id-1 div.sk-parallel-item:last-child::after {align-self: flex-start;width: 50%;}#sk-container-id-1 div.sk-parallel-item:only-child::after {width: 0;}#sk-container-id-1 div.sk-dashed-wrapped {border: 1px dashed gray;margin: 0 0.4em 0.5em 0.4em;box-sizing: border-box;padding-bottom: 0.4em;background-color: white;}#sk-container-id-1 div.sk-label label {font-family: monospace;font-weight: bold;display: inline-block;line-height: 1.2em;}#sk-container-id-1 div.sk-label-container {text-align: center;}#sk-container-id-1 div.sk-container {/* jupyter's `normalize.less` sets `[hidden] { display: none; }` but bootstrap.min.css set `[hidden] { display: none !important; }` so we also need the `!important` here to be able to override the default hidden behavior on the sphinx rendered scikit-learn.org. See: https://github.com/scikit-learn/scikit-learn/issues/21755 */display: inline-block !important;position: relative;}#sk-container-id-1 div.sk-text-repr-fallback {display: none;}</style><div id=\"sk-container-id-1\" class=\"sk-top-container\"><div class=\"sk-text-repr-fallback\"><pre>Pipeline(steps=[(&#x27;preprocessor&#x27;,\n",
       "                 ColumnTransformer(transformers=[(&#x27;cat&#x27;,\n",
       "                                                  Pipeline(steps=[(&#x27;imputer&#x27;,\n",
       "                                                                   SimpleImputer(strategy=&#x27;most_frequent&#x27;)),\n",
       "                                                                  (&#x27;onehot&#x27;,\n",
       "                                                                   OneHotEncoder(handle_unknown=&#x27;ignore&#x27;))]),\n",
       "                                                  [&#x27;Region&#x27;, &#x27;Soil_Type&#x27;,\n",
       "                                                   &#x27;Crop&#x27;,\n",
       "                                                   &#x27;Weather_Condition&#x27;]),\n",
       "                                                 (&#x27;num&#x27;,\n",
       "                                                  SimpleImputer(strategy=&#x27;median&#x27;),\n",
       "                                                  [&#x27;Rainfall_mm&#x27;,\n",
       "                                                   &#x27;Temperature_Celsius&#x27;,\n",
       "                                                   &#x27;Days_to_Harvest&#x27;]),\n",
       "                                                 (&#x27;bool&#x27;, &#x27;passthrough&#x27;,\n",
       "                                                  [&#x27;Fertilizer_Used&#x27;,\n",
       "                                                   &#x27;Irrigation_Used&#x27;])])),\n",
       "                (&#x27;regressor&#x27;, LinearRegression())])</pre><b>In a Jupyter environment, please rerun this cell to show the HTML representation or trust the notebook. <br />On GitHub, the HTML representation is unable to render, please try loading this page with nbviewer.org.</b></div><div class=\"sk-container\" hidden><div class=\"sk-item sk-dashed-wrapped\"><div class=\"sk-label-container\"><div class=\"sk-label sk-toggleable\"><input class=\"sk-toggleable__control sk-hidden--visually\" id=\"sk-estimator-id-1\" type=\"checkbox\" ><label for=\"sk-estimator-id-1\" class=\"sk-toggleable__label sk-toggleable__label-arrow\">Pipeline</label><div class=\"sk-toggleable__content\"><pre>Pipeline(steps=[(&#x27;preprocessor&#x27;,\n",
       "                 ColumnTransformer(transformers=[(&#x27;cat&#x27;,\n",
       "                                                  Pipeline(steps=[(&#x27;imputer&#x27;,\n",
       "                                                                   SimpleImputer(strategy=&#x27;most_frequent&#x27;)),\n",
       "                                                                  (&#x27;onehot&#x27;,\n",
       "                                                                   OneHotEncoder(handle_unknown=&#x27;ignore&#x27;))]),\n",
       "                                                  [&#x27;Region&#x27;, &#x27;Soil_Type&#x27;,\n",
       "                                                   &#x27;Crop&#x27;,\n",
       "                                                   &#x27;Weather_Condition&#x27;]),\n",
       "                                                 (&#x27;num&#x27;,\n",
       "                                                  SimpleImputer(strategy=&#x27;median&#x27;),\n",
       "                                                  [&#x27;Rainfall_mm&#x27;,\n",
       "                                                   &#x27;Temperature_Celsius&#x27;,\n",
       "                                                   &#x27;Days_to_Harvest&#x27;]),\n",
       "                                                 (&#x27;bool&#x27;, &#x27;passthrough&#x27;,\n",
       "                                                  [&#x27;Fertilizer_Used&#x27;,\n",
       "                                                   &#x27;Irrigation_Used&#x27;])])),\n",
       "                (&#x27;regressor&#x27;, LinearRegression())])</pre></div></div></div><div class=\"sk-serial\"><div class=\"sk-item sk-dashed-wrapped\"><div class=\"sk-label-container\"><div class=\"sk-label sk-toggleable\"><input class=\"sk-toggleable__control sk-hidden--visually\" id=\"sk-estimator-id-2\" type=\"checkbox\" ><label for=\"sk-estimator-id-2\" class=\"sk-toggleable__label sk-toggleable__label-arrow\">preprocessor: ColumnTransformer</label><div class=\"sk-toggleable__content\"><pre>ColumnTransformer(transformers=[(&#x27;cat&#x27;,\n",
       "                                 Pipeline(steps=[(&#x27;imputer&#x27;,\n",
       "                                                  SimpleImputer(strategy=&#x27;most_frequent&#x27;)),\n",
       "                                                 (&#x27;onehot&#x27;,\n",
       "                                                  OneHotEncoder(handle_unknown=&#x27;ignore&#x27;))]),\n",
       "                                 [&#x27;Region&#x27;, &#x27;Soil_Type&#x27;, &#x27;Crop&#x27;,\n",
       "                                  &#x27;Weather_Condition&#x27;]),\n",
       "                                (&#x27;num&#x27;, SimpleImputer(strategy=&#x27;median&#x27;),\n",
       "                                 [&#x27;Rainfall_mm&#x27;, &#x27;Temperature_Celsius&#x27;,\n",
       "                                  &#x27;Days_to_Harvest&#x27;]),\n",
       "                                (&#x27;bool&#x27;, &#x27;passthrough&#x27;,\n",
       "                                 [&#x27;Fertilizer_Used&#x27;, &#x27;Irrigation_Used&#x27;])])</pre></div></div></div><div class=\"sk-parallel\"><div class=\"sk-parallel-item\"><div class=\"sk-item\"><div class=\"sk-label-container\"><div class=\"sk-label sk-toggleable\"><input class=\"sk-toggleable__control sk-hidden--visually\" id=\"sk-estimator-id-3\" type=\"checkbox\" ><label for=\"sk-estimator-id-3\" class=\"sk-toggleable__label sk-toggleable__label-arrow\">cat</label><div class=\"sk-toggleable__content\"><pre>[&#x27;Region&#x27;, &#x27;Soil_Type&#x27;, &#x27;Crop&#x27;, &#x27;Weather_Condition&#x27;]</pre></div></div></div><div class=\"sk-serial\"><div class=\"sk-item\"><div class=\"sk-serial\"><div class=\"sk-item\"><div class=\"sk-estimator sk-toggleable\"><input class=\"sk-toggleable__control sk-hidden--visually\" id=\"sk-estimator-id-4\" type=\"checkbox\" ><label for=\"sk-estimator-id-4\" class=\"sk-toggleable__label sk-toggleable__label-arrow\">SimpleImputer</label><div class=\"sk-toggleable__content\"><pre>SimpleImputer(strategy=&#x27;most_frequent&#x27;)</pre></div></div></div><div class=\"sk-item\"><div class=\"sk-estimator sk-toggleable\"><input class=\"sk-toggleable__control sk-hidden--visually\" id=\"sk-estimator-id-5\" type=\"checkbox\" ><label for=\"sk-estimator-id-5\" class=\"sk-toggleable__label sk-toggleable__label-arrow\">OneHotEncoder</label><div class=\"sk-toggleable__content\"><pre>OneHotEncoder(handle_unknown=&#x27;ignore&#x27;)</pre></div></div></div></div></div></div></div></div><div class=\"sk-parallel-item\"><div class=\"sk-item\"><div class=\"sk-label-container\"><div class=\"sk-label sk-toggleable\"><input class=\"sk-toggleable__control sk-hidden--visually\" id=\"sk-estimator-id-6\" type=\"checkbox\" ><label for=\"sk-estimator-id-6\" class=\"sk-toggleable__label sk-toggleable__label-arrow\">num</label><div class=\"sk-toggleable__content\"><pre>[&#x27;Rainfall_mm&#x27;, &#x27;Temperature_Celsius&#x27;, &#x27;Days_to_Harvest&#x27;]</pre></div></div></div><div class=\"sk-serial\"><div class=\"sk-item\"><div class=\"sk-estimator sk-toggleable\"><input class=\"sk-toggleable__control sk-hidden--visually\" id=\"sk-estimator-id-7\" type=\"checkbox\" ><label for=\"sk-estimator-id-7\" class=\"sk-toggleable__label sk-toggleable__label-arrow\">SimpleImputer</label><div class=\"sk-toggleable__content\"><pre>SimpleImputer(strategy=&#x27;median&#x27;)</pre></div></div></div></div></div></div><div class=\"sk-parallel-item\"><div class=\"sk-item\"><div class=\"sk-label-container\"><div class=\"sk-label sk-toggleable\"><input class=\"sk-toggleable__control sk-hidden--visually\" id=\"sk-estimator-id-8\" type=\"checkbox\" ><label for=\"sk-estimator-id-8\" class=\"sk-toggleable__label sk-toggleable__label-arrow\">bool</label><div class=\"sk-toggleable__content\"><pre>[&#x27;Fertilizer_Used&#x27;, &#x27;Irrigation_Used&#x27;]</pre></div></div></div><div class=\"sk-serial\"><div class=\"sk-item\"><div class=\"sk-estimator sk-toggleable\"><input class=\"sk-toggleable__control sk-hidden--visually\" id=\"sk-estimator-id-9\" type=\"checkbox\" ><label for=\"sk-estimator-id-9\" class=\"sk-toggleable__label sk-toggleable__label-arrow\">passthrough</label><div class=\"sk-toggleable__content\"><pre>passthrough</pre></div></div></div></div></div></div></div></div><div class=\"sk-item\"><div class=\"sk-estimator sk-toggleable\"><input class=\"sk-toggleable__control sk-hidden--visually\" id=\"sk-estimator-id-10\" type=\"checkbox\" ><label for=\"sk-estimator-id-10\" class=\"sk-toggleable__label sk-toggleable__label-arrow\">LinearRegression</label><div class=\"sk-toggleable__content\"><pre>LinearRegression()</pre></div></div></div></div></div></div></div>"
      ],
      "text/plain": [
       "Pipeline(steps=[('preprocessor',\n",
       "                 ColumnTransformer(transformers=[('cat',\n",
       "                                                  Pipeline(steps=[('imputer',\n",
       "                                                                   SimpleImputer(strategy='most_frequent')),\n",
       "                                                                  ('onehot',\n",
       "                                                                   OneHotEncoder(handle_unknown='ignore'))]),\n",
       "                                                  ['Region', 'Soil_Type',\n",
       "                                                   'Crop',\n",
       "                                                   'Weather_Condition']),\n",
       "                                                 ('num',\n",
       "                                                  SimpleImputer(strategy='median'),\n",
       "                                                  ['Rainfall_mm',\n",
       "                                                   'Temperature_Celsius',\n",
       "                                                   'Days_to_Harvest']),\n",
       "                                                 ('bool', 'passthrough',\n",
       "                                                  ['Fertilizer_Used',\n",
       "                                                   'Irrigation_Used'])])),\n",
       "                ('regressor', LinearRegression())])"
      ]
     },
     "execution_count": 12,
     "metadata": {},
     "output_type": "execute_result"
    }
   ],
   "source": [
    "# Train model\n",
    "model.fit(X_train, y_train)"
   ]
  },
  {
   "cell_type": "code",
   "execution_count": 14,
   "id": "9bb01c12-be75-40d8-8251-e8f0939d3569",
   "metadata": {
    "tags": []
   },
   "outputs": [
    {
     "name": "stdout",
     "output_type": "stream",
     "text": [
      "MSE: 0.25535303624926164\n",
      "MAE: 0.4031354184065505\n",
      "R²: 0.9148254772404703\n"
     ]
    }
   ],
   "source": [
    "# Evaluate\n",
    "y_pred = model.predict(X_test)\n",
    "print(f\"MSE: {mean_squared_error(y_test, y_pred)}\")\n",
    "print(f\"MAE: {mean_absolute_error(y_test, y_pred)}\")\n",
    "print(f\"R²: {r2_score(y_test, y_pred)}\")"
   ]
  },
  {
   "cell_type": "code",
   "execution_count": 15,
   "id": "2f4a9dc1-6fbf-4a33-a206-816636310fd9",
   "metadata": {
    "tags": []
   },
   "outputs": [],
   "source": [
    "# Prediction function\n",
    "def predict_yield():\n",
    "    features = {\n",
    "        'Region': input(\"Enter Region (West/South/North/East): \").strip(),\n",
    "        'Soil_Type': input(\"Enter Soil Type (Sandy/Clay/Loam/etc.): \").strip(),\n",
    "        'Crop': input(\"Enter Crop: \").strip(),\n",
    "        'Rainfall_mm': input(\"Enter Rainfall (mm): \").strip(),\n",
    "        'Temperature_Celsius': input(\"Enter Temperature (°C): \").strip(),\n",
    "        'Fertilizer_Used': input(\"Fertilizer Used (True/False): \").strip(),\n",
    "        'Irrigation_Used': input(\"Irrigation Used (True/False): \").strip(),\n",
    "        'Weather_Condition': input(\"Weather Condition (Sunny/Rainy/Cloudy): \").strip(),\n",
    "        'Days_to_Harvest': input(\"Days to Harvest: \").strip()\n",
    "    }\n",
    "    \n",
    "    # Handle missing/wrong values\n",
    "    for key in ['Rainfall_mm', 'Temperature_Celsius', 'Days_to_Harvest']:\n",
    "        if not features[key]:\n",
    "            features[key] = np.nan\n",
    "        else:\n",
    "            try:\n",
    "                features[key] = float(features[key])\n",
    "            except:\n",
    "                print(f\"Invalid value for {key}, using NaN\")\n",
    "                features[key] = np.nan\n",
    "                \n",
    "    for key in ['Fertilizer_Used', 'Irrigation_Used']:\n",
    "        if features[key].lower() in ['true', 't', '1']:\n",
    "            features[key] = True\n",
    "        elif features[key].lower() in ['false', 'f', '0']:\n",
    "            features[key] = False\n",
    "        else:\n",
    "            print(f\"Invalid boolean value for {key}, using False\")\n",
    "            features[key] = False\n",
    "\n",
    "    # Create DataFrame and predict\n",
    "    input_df = pd.DataFrame([features])\n",
    "    try:\n",
    "        prediction = model.predict(input_df)\n",
    "        print(f\"\\nPredicted Yield: {prediction[0]:.2f} tons/hectare\")\n",
    "    except Exception as e:\n",
    "        print(f\"Prediction failed: {str(e)}\")"
   ]
  },
  {
   "cell_type": "code",
   "execution_count": null,
   "id": "62893f53-077b-43cf-82f2-3627b0aa0397",
   "metadata": {},
   "outputs": [],
   "source": [
    "# In the below run of the above function, all values have been provided. And each feature has been provided\n",
    "# correct values."
   ]
  },
  {
   "cell_type": "code",
   "execution_count": 21,
   "id": "ce3677e8-8bb6-41ba-9ab6-33e3f7c9197d",
   "metadata": {
    "tags": []
   },
   "outputs": [
    {
     "name": "stdin",
     "output_type": "stream",
     "text": [
      "Enter Region (West/South/North/East):  North\n",
      "Enter Soil Type (Sandy/Clay/Loam/etc.):  Sandy\n",
      "Enter Crop:  Cotton\n",
      "Enter Rainfall (mm):  150\n",
      "Enter Temperature (°C):  27\n",
      "Fertilizer Used (True/False):  true\n",
      "Irrigation Used (True/False):  false\n",
      "Weather Condition (Sunny/Rainy/Cloudy):  Rainy\n",
      "Days to Harvest:  78\n"
     ]
    },
    {
     "name": "stdout",
     "output_type": "stream",
     "text": [
      "\n",
      "Predicted Yield: 2.75 tons/hectare\n"
     ]
    }
   ],
   "source": [
    "# Example usage\n",
    "predict_yield()"
   ]
  },
  {
   "cell_type": "code",
   "execution_count": null,
   "id": "2cd00b09-3c01-4d73-9afd-eb82f90a1c84",
   "metadata": {},
   "outputs": [],
   "source": [
    "# In the below run of the above function, no value has been provided to feature 'Region'. It becomes a NULL value. \n",
    "# Every other feature has been provided correct values."
   ]
  },
  {
   "cell_type": "code",
   "execution_count": 22,
   "id": "115d2d2a-790c-412f-8f45-7b364bb03f01",
   "metadata": {
    "tags": []
   },
   "outputs": [
    {
     "name": "stdin",
     "output_type": "stream",
     "text": [
      "Enter Region (West/South/North/East):  \n",
      "Enter Soil Type (Sandy/Clay/Loam/etc.):  Loam\n",
      "Enter Crop:  Corn\n",
      "Enter Rainfall (mm):  135.632\n",
      "Enter Temperature (°C):  32\n",
      "Fertilizer Used (True/False):  false\n",
      "Irrigation Used (True/False):  false\n",
      "Weather Condition (Sunny/Rainy/Cloudy):  Cloudy\n",
      "Days to Harvest:  23\n"
     ]
    },
    {
     "name": "stdout",
     "output_type": "stream",
     "text": [
      "\n",
      "Predicted Yield: 1.34 tons/hectare\n"
     ]
    }
   ],
   "source": [
    "# Example usage\n",
    "predict_yield()"
   ]
  },
  {
   "cell_type": "code",
   "execution_count": null,
   "id": "2ac8eb37-a78b-4012-b53e-89c48168cf30",
   "metadata": {},
   "outputs": [],
   "source": [
    "# In the below run of the above functiion, feature 'rainfall_mm' has been provided an incorrect value. So the \n",
    "# function treats it like a NaN and solves"
   ]
  },
  {
   "cell_type": "code",
   "execution_count": 18,
   "id": "1aff83a6-18b0-4e8d-904b-4ae627ffd8c5",
   "metadata": {
    "tags": []
   },
   "outputs": [
    {
     "name": "stdin",
     "output_type": "stream",
     "text": [
      "Enter Region (West/South/North/East):  West\n",
      "Enter Soil Type (Sandy/Clay/Loam/etc.):  sandy\n",
      "Enter Crop:  Wheat\n",
      "Enter Rainfall (mm):  xyz\n",
      "Enter Temperature (°C):  25\n",
      "Fertilizer Used (True/False):  t\n",
      "Irrigation Used (True/False):  t\n",
      "Weather Condition (Sunny/Rainy/Cloudy):  sunny\n",
      "Days to Harvest:  50\n"
     ]
    },
    {
     "name": "stdout",
     "output_type": "stream",
     "text": [
      "Invalid value for Rainfall_mm, using NaN\n",
      "\n",
      "Predicted Yield: 5.96 tons/hectare\n"
     ]
    }
   ],
   "source": [
    "# Example usage\n",
    "predict_yield()"
   ]
  },
  {
   "cell_type": "code",
   "execution_count": null,
   "id": "d4bc48bf-696d-41e9-b859-09affc28804b",
   "metadata": {},
   "outputs": [],
   "source": [
    "# In the below run of the above functiion, feature 'crop', 'temperature_celsius' have been provided an \n",
    "# no values,i.e., NULL values, and 'fertilizer_used' has an incorrect value. Despite such inconsistencies, our \n",
    "# model performs. "
   ]
  },
  {
   "cell_type": "code",
   "execution_count": 23,
   "id": "2a58f727-5988-4593-83a9-6a04996a6f9a",
   "metadata": {
    "tags": []
   },
   "outputs": [
    {
     "name": "stdin",
     "output_type": "stream",
     "text": [
      "Enter Region (West/South/North/East):  NOrth\n",
      "Enter Soil Type (Sandy/Clay/Loam/etc.):  Sandy\n",
      "Enter Crop:  \n",
      "Enter Rainfall (mm):  123\n",
      "Enter Temperature (°C):  \n",
      "Fertilizer Used (True/False):  x\n",
      "Irrigation Used (True/False):  t\n",
      "Weather Condition (Sunny/Rainy/Cloudy):  sunny\n",
      "Days to Harvest:  56\n"
     ]
    },
    {
     "name": "stdout",
     "output_type": "stream",
     "text": [
      "Invalid boolean value for Fertilizer_Used, using False\n",
      "\n",
      "Predicted Yield: 2.34 tons/hectare\n"
     ]
    }
   ],
   "source": [
    "# Example usage\n",
    "predict_yield()"
   ]
  },
  {
   "cell_type": "code",
   "execution_count": null,
   "id": "06bd9bf2-40ba-4535-9bb1-33e19a39bfe8",
   "metadata": {},
   "outputs": [],
   "source": [
    "# Safe to say that we have stress-tested the model."
   ]
  }
 ],
 "metadata": {
  "kernelspec": {
   "display_name": "Python 3 (ipykernel)",
   "language": "python",
   "name": "python3"
  },
  "language_info": {
   "codemirror_mode": {
    "name": "ipython",
    "version": 3
   },
   "file_extension": ".py",
   "mimetype": "text/x-python",
   "name": "python",
   "nbconvert_exporter": "python",
   "pygments_lexer": "ipython3",
   "version": "3.11.5"
  }
 },
 "nbformat": 4,
 "nbformat_minor": 5
}
